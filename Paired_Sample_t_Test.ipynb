{
 "cells": [
  {
   "cell_type": "markdown",
   "metadata": {},
   "source": [
    "# Paired Sample t-Test in Python\n",
    "This notebook demonstrates how to perform a Paired Sample t-Test using synthetic GPA data."
   ]
  },
  {
   "cell_type": "code",
   "execution_count": 1,
   "metadata": {},
   "outputs": [
    {
     "name": "stdout",
     "output_type": "stream",
     "text": [
      "                T  dof alternative         p-val         CI95%   cohen-d  \\\n",
      "T-test  11.389597   99   two-sided  1.049694e-19  [0.15, 0.21]  0.375083   \n",
      "\n",
      "             BF10     power  \n",
      "T-test  4.858e+16  0.960305  \n",
      "t-statistic: 11.389596584622845\n",
      "p-value: 1.0496940392656813e-19\n"
     ]
    }
   ],
   "source": [
    "import numpy as np\n",
    "import pandas as pd\n",
    "import pingouin as pg\n",
    "import statistics \n",
    "\n",
    "\n",
    "# Load the dataset\n",
    "df = pd.read_csv('seminar dataset.csv')\n",
    "\n",
    "\n",
    "# Extract the relevant columns\n",
    "gpa_before = df['gpa_before_it']\n",
    "gpa_after = df['gpa_after_it']\n",
    "\n",
    "# Perform the Paired Sample t-Test using Pingouin\n",
    "test = pg.ttest(gpa_after, gpa_before, paired=True)\n",
    "\n",
    "# Print the results\n",
    "print(test)\n",
    "\n",
    "# Print specific details\n",
    "print(f\"t-statistic: {test['T'].values[0]}\")\n",
    "print(f\"p-value: {test['p-val'].values[0]}\")\n"
   ]
  },
  {
   "cell_type": "code",
   "execution_count": 2,
   "metadata": {},
   "outputs": [
    {
     "name": "stdout",
     "output_type": "stream",
     "text": [
      "3.2239\n"
     ]
    }
   ],
   "source": [
    "\n",
    "\n",
    "mean_gpa_before = statistics.mean(gpa_before)\n",
    "\n",
    "print (mean_gpa_before)"
   ]
  },
  {
   "cell_type": "code",
   "execution_count": 3,
   "metadata": {},
   "outputs": [
    {
     "name": "stdout",
     "output_type": "stream",
     "text": [
      "3.4001\n"
     ]
    }
   ],
   "source": [
    "\n",
    "mean_gpa_after = statistics.mean(gpa_after)\n",
    "\n",
    "print(mean_gpa_after)"
   ]
  },
  {
   "cell_type": "code",
   "execution_count": 4,
   "metadata": {},
   "outputs": [
    {
     "data": {
      "text/plain": [
       "(np.float64(0.7956328451882844), array([0.693, 0.871]))"
      ]
     },
     "execution_count": 4,
     "metadata": {},
     "output_type": "execute_result"
    }
   ],
   "source": [
    "#load dataset\n",
    "df = pd.read_csv('seminar dataset binary.csv')\n",
    "# df\n",
    "\n",
    "pg.cronbach_alpha(data=df, ci=.99)"
   ]
  },
  {
   "cell_type": "code",
   "execution_count": 27,
   "metadata": {},
   "outputs": [
    {
     "name": "stdout",
     "output_type": "stream",
     "text": [
      "Pearson Correlation Coefficient: 0.06240406277000611\n"
     ]
    }
   ],
   "source": [
    "import pandas as pd\n",
    "\n",
    "# Load the dataset\n",
    "df = pd.read_csv('pcc_dataset.csv')\n",
    "\n",
    "# Select relevant columns\n",
    "df_combined = df[['gpa_after_it', 'concepts_transferred_binary']]\n",
    "\n",
    "# Drop rows with missing values\n",
    "df_combined = df_combined.dropna()\n",
    "\n",
    "# Calculate the Pearson correlation coefficient\n",
    "correlation_matrix = df_combined.corr()\n",
    "\n",
    "# Extract the Pearson correlation coefficient\n",
    "pcc = correlation_matrix.loc['gpa_after_it', 'concepts_transferred_binary']\n",
    "\n",
    "print(\"Pearson Correlation Coefficient:\", pcc)\n",
    "\n",
    "\n",
    "\n",
    "\n",
    "\n",
    "\n",
    "# df.corr() # returns a matrix with each columns correlation to all others\n",
    "\n",
    "# PCC and p-value(significance) using Scipy\n",
    "# from scipy.stats import pearsonr\n",
    "# pearsonr(df['colA'], df['colB'])\n",
    "\n",
    "# # PCC, p-value, and Confidence Level, etc. using pingouin\n",
    "# from pingouin import corr\n",
    "# corr(df['colA'], df['colB'])\n",
    "\n",
    "# # PCC using researchpy\n",
    "# from researchpy.correlation import corr_case\n",
    "# corr_case(df[['colA','colB']])\n",
    "\n",
    "# # PCC using Numpy\n",
    "# import numpy as np\n",
    "# arrayOne = np.array(df['colA'])\n",
    "# arrayTwo = np.array(df['colB'])\n",
    "# np.corrcoef(arrayOne, arrayTwo)\n",
    "\n",
    "# # PCC using pyspark\n",
    "# from pyspark.sql.functions import corr\n",
    "# df.select(corr('colA','colB')).show()\n"
   ]
  },
  {
   "cell_type": "code",
   "execution_count": 29,
   "metadata": {},
   "outputs": [
    {
     "name": "stdout",
     "output_type": "stream",
     "text": [
      "Spearman's Rank Correlation Coefficient: 0.033891978431396234\n"
     ]
    }
   ],
   "source": [
    "import pandas as pd\n",
    "import pingouin as pg\n",
    "\n",
    "# Load the dataset\n",
    "df = pd.read_csv('pcc_dataset.csv')\n",
    "\n",
    "# Select relevant columns\n",
    "df_combined = df[['gpa_after_it', 'concepts_transferred_binary']]\n",
    "\n",
    "# Drop rows with missing values\n",
    "df_combined = df_combined.dropna()\n",
    "\n",
    "# Calculate Spearman's rank correlation coefficient\n",
    "spearman_corr = pg.corr(df_combined['gpa_after_it'], df_combined['concepts_transferred_binary'], method='spearman')\n",
    "\n",
    "print(\"Spearman's Rank Correlation Coefficient:\", spearman_corr['r'].values[0])\n"
   ]
  },
  {
   "cell_type": "code",
   "execution_count": 31,
   "metadata": {},
   "outputs": [
    {
     "name": "stdout",
     "output_type": "stream",
     "text": [
      "Spearman's Rank Correlation Coefficient between GPA Change and Concepts Transferred: 0.15791553974810787\n",
      "p-value: 0.0475175060369151\n"
     ]
    }
   ],
   "source": [
    "import pandas as pd\n",
    "from scipy.stats import spearmanr\n",
    "\n",
    "# Load the dataset\n",
    "df = pd.read_csv('pcc_dataset.csv')\n",
    "\n",
    "# Calculate the change in GPA\n",
    "df['gpa_change'] = df['gpa_after_it'] - df['gpa_before_it']\n",
    "\n",
    "# Select relevant columns\n",
    "df_combined = df[['gpa_change', 'concepts_transferred_binary']]\n",
    "\n",
    "# Drop rows with missing values\n",
    "df_combined = df_combined.dropna()\n",
    "\n",
    "# Calculate Spearman's rank correlation coefficient\n",
    "spearman_corr, p_value = spearmanr(df_combined['gpa_change'], df_combined['concepts_transferred_binary'])\n",
    "\n",
    "print(\"Spearman's Rank Correlation Coefficient between GPA Change and Concepts Transferred:\", spearman_corr)\n",
    "print(\"p-value:\", p_value)\n"
   ]
  },
  {
   "cell_type": "code",
   "execution_count": 33,
   "metadata": {},
   "outputs": [
    {
     "name": "stdout",
     "output_type": "stream",
     "text": [
      "                            OLS Regression Results                            \n",
      "==============================================================================\n",
      "Dep. Variable:             gpa_change   R-squared:                       0.035\n",
      "Model:                            OLS   Adj. R-squared:                  0.029\n",
      "Method:                 Least Squares   F-statistic:                     5.686\n",
      "Date:                Mon, 02 Sep 2024   Prob (F-statistic):             0.0183\n",
      "Time:                        12:44:09   Log-Likelihood:                 77.308\n",
      "No. Observations:                 158   AIC:                            -150.6\n",
      "Df Residuals:                     156   BIC:                            -144.5\n",
      "Df Model:                           1                                         \n",
      "Covariance Type:            nonrobust                                         \n",
      "===============================================================================================\n",
      "                                  coef    std err          t      P>|t|      [0.025      0.975]\n",
      "-----------------------------------------------------------------------------------------------\n",
      "const                           0.0867      0.039      2.248      0.026       0.011       0.163\n",
      "concepts_transferred_binary     0.0966      0.041      2.385      0.018       0.017       0.177\n",
      "==============================================================================\n",
      "Omnibus:                        3.010   Durbin-Watson:                   1.985\n",
      "Prob(Omnibus):                  0.222   Jarque-Bera (JB):                2.172\n",
      "Skew:                          -0.110   Prob(JB):                        0.338\n",
      "Kurtosis:                       2.470   Cond. No.                         6.34\n",
      "==============================================================================\n",
      "\n",
      "Notes:\n",
      "[1] Standard Errors assume that the covariance matrix of the errors is correctly specified.\n"
     ]
    }
   ],
   "source": [
    "import pandas as pd\n",
    "import statsmodels.api as sm\n",
    "\n",
    "# Load the dataset\n",
    "df = pd.read_csv('pcc_dataset.csv')\n",
    "\n",
    "# Calculate the change in GPA\n",
    "df['gpa_change'] = df['gpa_after_it'] - df['gpa_before_it']\n",
    "\n",
    "# Define the independent variable(s) and dependent variable\n",
    "X = df[['concepts_transferred_binary']]\n",
    "X = sm.add_constant(X)  # Adds a constant term to the model\n",
    "y = df['gpa_change']\n",
    "\n",
    "# Fit the model\n",
    "model = sm.OLS(y, X).fit()\n",
    "\n",
    "# Print the summary of the regression\n",
    "print(model.summary())\n"
   ]
  },
  {
   "cell_type": "code",
   "execution_count": 34,
   "metadata": {},
   "outputs": [],
   "source": [
    "# import pandas as pd\n",
    "# import statsmodels.api as sm\n",
    "\n",
    "#load dataset\n",
    "# df = pd.read_csv('seminar dataset binary.csv')\n",
    "\n",
    "\n",
    "# # Independent variables: Recommendation and Satisfaction Rating\n",
    "# X = df[['recommend_binary', 'experience_rating_binary']]\n",
    "\n",
    "# # Add a constant (intercept)\n",
    "# X = sm.add_constant(X)\n",
    "\n",
    "# # Dependent variable: GPA\n",
    "# Y = mean_gpa_after\n",
    "\n",
    "# # Perform the regression\n",
    "# model = sm.OLS(Y, X).fit()\n",
    "\n",
    "# # Print the summary of the regression\n",
    "# print(model.summary())\n",
    "\n",
    "# print(mean_gpa_after)"
   ]
  }
 ],
 "metadata": {
  "kernelspec": {
   "display_name": ".venv",
   "language": "python",
   "name": "python3"
  },
  "language_info": {
   "codemirror_mode": {
    "name": "ipython",
    "version": 3
   },
   "file_extension": ".py",
   "mimetype": "text/x-python",
   "name": "python",
   "nbconvert_exporter": "python",
   "pygments_lexer": "ipython3",
   "version": "3.12.1"
  }
 },
 "nbformat": 4,
 "nbformat_minor": 2
}
