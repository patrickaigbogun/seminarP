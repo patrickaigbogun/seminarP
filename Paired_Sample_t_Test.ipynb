{
 "cells": [
  {
   "cell_type": "markdown",
   "metadata": {},
   "source": [
    "# Paired Sample t-Test in Python\n",
    "This notebook demonstrates how to perform a Paired Sample t-Test using synthetic GPA data."
   ]
  },
  {
   "cell_type": "code",
   "execution_count": 1,
   "metadata": {},
   "outputs": [
    {
     "name": "stdout",
     "output_type": "stream",
     "text": [
      "                T  dof alternative         p-val         CI95%   cohen-d  \\\n",
      "T-test  11.389597   99   two-sided  1.049694e-19  [0.15, 0.21]  0.375083   \n",
      "\n",
      "             BF10     power  \n",
      "T-test  4.858e+16  0.960305  \n",
      "t-statistic: 11.389596584622845\n",
      "p-value: 1.0496940392656813e-19\n"
     ]
    }
   ],
   "source": [
    "import numpy as np\n",
    "import pandas as pd\n",
    "import pingouin as pg\n",
    "import statistics \n",
    "\n",
    "\n",
    "# Load the dataset\n",
    "df = pd.read_csv('seminar dataset.csv')\n",
    "\n",
    "\n",
    "# Extract the relevant columns\n",
    "gpa_before = df['gpa_before_it']\n",
    "gpa_after = df['gpa_after_it']\n",
    "\n",
    "# Perform the Paired Sample t-Test using Pingouin\n",
    "test = pg.ttest(gpa_after, gpa_before, paired=True)\n",
    "\n",
    "# Print the results\n",
    "print(test)\n",
    "\n",
    "# Print specific details\n",
    "print(f\"t-statistic: {test['T'].values[0]}\")\n",
    "print(f\"p-value: {test['p-val'].values[0]}\")\n"
   ]
  },
  {
   "cell_type": "code",
   "execution_count": 2,
   "metadata": {},
   "outputs": [
    {
     "name": "stdout",
     "output_type": "stream",
     "text": [
      "3.2239\n"
     ]
    }
   ],
   "source": [
    "\n",
    "\n",
    "mean_gpa_before = statistics.mean(gpa_before)\n",
    "\n",
    "print (mean_gpa_before)"
   ]
  },
  {
   "cell_type": "code",
   "execution_count": 3,
   "metadata": {},
   "outputs": [
    {
     "name": "stdout",
     "output_type": "stream",
     "text": [
      "3.4001\n"
     ]
    }
   ],
   "source": [
    "\n",
    "mean_gpa_after = statistics.mean(gpa_after)\n",
    "\n",
    "print(mean_gpa_after)"
   ]
  },
  {
   "cell_type": "code",
   "execution_count": 14,
   "metadata": {},
   "outputs": [
    {
     "data": {
      "text/plain": [
       "(np.float64(0.7956328451882844), array([0.693, 0.871]))"
      ]
     },
     "execution_count": 14,
     "metadata": {},
     "output_type": "execute_result"
    }
   ],
   "source": [
    "#load dataset\n",
    "df = pd.read_csv('seminar dataset binary.csv')\n",
    "# df\n",
    "\n",
    "pg.cronbach_alpha(data=df, ci=.99)"
   ]
  },
  {
   "cell_type": "code",
   "execution_count": 15,
   "metadata": {},
   "outputs": [],
   "source": [
    "# import pandas as pd\n",
    "# import statsmodels.api as sm\n",
    "\n",
    "#load dataset\n",
    "# df = pd.read_csv('seminar dataset binary.csv')\n",
    "\n",
    "\n",
    "# # Independent variables: Recommendation and Satisfaction Rating\n",
    "# X = df[['recommend_binary', 'experience_rating_binary']]\n",
    "\n",
    "# # Add a constant (intercept)\n",
    "# X = sm.add_constant(X)\n",
    "\n",
    "# # Dependent variable: GPA\n",
    "# Y = mean_gpa_after\n",
    "\n",
    "# # Perform the regression\n",
    "# model = sm.OLS(Y, X).fit()\n",
    "\n",
    "# # Print the summary of the regression\n",
    "# print(model.summary())\n",
    "\n",
    "# print(mean_gpa_after)"
   ]
  }
 ],
 "metadata": {
  "kernelspec": {
   "display_name": ".venv",
   "language": "python",
   "name": "python3"
  },
  "language_info": {
   "codemirror_mode": {
    "name": "ipython",
    "version": 3
   },
   "file_extension": ".py",
   "mimetype": "text/x-python",
   "name": "python",
   "nbconvert_exporter": "python",
   "pygments_lexer": "ipython3",
   "version": "3.12.1"
  }
 },
 "nbformat": 4,
 "nbformat_minor": 2
}
